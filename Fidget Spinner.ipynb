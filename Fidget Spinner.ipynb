{
 "cells": [
  {
   "cell_type": "markdown",
   "metadata": {},
   "source": [
    "## Simple Fidget Spinner"
   ]
  },
  {
   "cell_type": "code",
   "execution_count": 9,
   "metadata": {},
   "outputs": [],
   "source": [
    "from turtle import *\n",
    "state = {'turn': 0}\n",
    "def spinner():\n",
    "    clear()\n",
    "    angle = state['turn']/10\n",
    "    right(angle)\n",
    "    forward(100)\n",
    "    dot(130, 'White')\n",
    "    back(100)\n",
    "    right(120)\n",
    "    forward(100)\n",
    "    dot(120, 'white')\n",
    "    back(100)\n",
    "    right(120)\n",
    "    forward(100)\n",
    "    dot(120, 'white')\n",
    "    back(100)\n",
    "    right(120)\n",
    "    update()\n",
    "def animate():\n",
    "    if state['turn']>0:\n",
    "        state['turn']-=1\n",
    "\n",
    "    spinner()\n",
    "    ontimer(animate, 20)\n",
    "def flick():\n",
    "    state['turn']+=10\n",
    "\n",
    "setup(420, 420, 370, 0)\n",
    "hideturtle()\n",
    "bgcolor(\"skyblue\")\n",
    "tracer(False)\n",
    "width(20)\n",
    "onkey(flick, 'space')\n",
    "listen()\n",
    "animate()\n",
    "done()\n"
   ]
  },
  {
   "cell_type": "markdown",
   "metadata": {},
   "source": [
    "## 2nd Fidget Spinner"
   ]
  },
  {
   "cell_type": "code",
   "execution_count": 2,
   "metadata": {},
   "outputs": [
    {
     "name": "stderr",
     "output_type": "stream",
     "text": [
      "Exception in Tkinter callback\n",
      "Traceback (most recent call last):\n",
      "  File \"C:\\Users\\Maimoona Khilji\\AppData\\Local\\Continuum\\anaconda3\\lib\\tkinter\\__init__.py\", line 1705, in __call__\n",
      "    return self.func(*args)\n",
      "  File \"C:\\Users\\Maimoona Khilji\\AppData\\Local\\Continuum\\anaconda3\\lib\\tkinter\\__init__.py\", line 749, in callit\n",
      "    func(*args)\n",
      "  File \"<ipython-input-2-012f3fd26553>\", line 54, in animate\n",
      "    ontimer(animate, 20)\n",
      "  File \"<string>\", line 5, in ontimer\n",
      "turtle.Terminator\n"
     ]
    }
   ],
   "source": [
    "from turtle import *\n",
    "state = {'turn': 0}\n",
    "def spinner():\n",
    "    clear()\n",
    "    angle = state['turn']/10\n",
    "    dot(80,'yellow')\n",
    "    color('red4')\n",
    "    right(angle)\n",
    "    forward(150)\n",
    "    dot(120, 'red4')\n",
    "    color('white')\n",
    "    forward(3)\n",
    "    dot(75,'white')\n",
    "    forward(3)\n",
    "    dot(50,'red4')\n",
    "    color('red4')\n",
    "    back(43)\n",
    "\n",
    "    color('red4')\n",
    "    back(120)\n",
    "    right(120)\n",
    "    forward(150)\n",
    "    dot(120, 'red4')\n",
    "    color('white')\n",
    "    forward(3)\n",
    "    dot(75,'white')\n",
    "    forward(3)\n",
    "    dot(50,'red4')\n",
    "    color('red4')\n",
    "    back(43)\n",
    "\n",
    "    color('red4')\n",
    "    back(120)\n",
    "    right(120)\n",
    "    forward(150)\n",
    "    dot(120, 'red4')\n",
    "    color('white')\n",
    "    forward(3)\n",
    "    dot(75,'white')\n",
    "    forward(3)\n",
    "    dot(50,'red4')\n",
    "    color('red4')\n",
    "    back(43)\n",
    "\n",
    "    color('red4')\n",
    "    back(120)\n",
    "    right(120)\n",
    "    update()\n",
    "def animate():\n",
    "    if state['turn']>0:\n",
    "        state['turn']-=1\n",
    "\n",
    "    spinner()\n",
    "    ontimer(animate, 20)\n",
    "def flick():\n",
    "    state['turn']+=10\n",
    "\n",
    "setup(420, 420, 420, 0)\n",
    "hideturtle()\n",
    "bgcolor(\"white\")\n",
    "tracer(False)\n",
    "width(20)\n",
    "onkey(flick, 'space')\n",
    "listen()\n",
    "animate()\n",
    "done()\n"
   ]
  },
  {
   "cell_type": "code",
   "execution_count": null,
   "metadata": {},
   "outputs": [],
   "source": []
  }
 ],
 "metadata": {
  "kernelspec": {
   "display_name": "Python 3",
   "language": "python",
   "name": "python3"
  },
  "language_info": {
   "codemirror_mode": {
    "name": "ipython",
    "version": 3
   },
   "file_extension": ".py",
   "mimetype": "text/x-python",
   "name": "python",
   "nbconvert_exporter": "python",
   "pygments_lexer": "ipython3",
   "version": "3.7.3"
  }
 },
 "nbformat": 4,
 "nbformat_minor": 2
}
